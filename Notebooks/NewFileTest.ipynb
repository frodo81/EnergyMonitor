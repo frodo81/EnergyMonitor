{
 "metadata": {
  "name": ""
 },
 "nbformat": 3,
 "nbformat_minor": 0,
 "worksheets": [
  {
   "cells": [
    {
     "cell_type": "heading",
     "level": 1,
     "metadata": {},
     "source": [
      "Dokumentatiion of emLibrary"
     ]
    },
    {
     "cell_type": "heading",
     "level": 2,
     "metadata": {},
     "source": [
      "emLibrary Tutorial"
     ]
    },
    {
     "cell_type": "markdown",
     "metadata": {},
     "source": [
      "Import emLibrary as emIF, emDF objects"
     ]
    },
    {
     "cell_type": "code",
     "collapsed": false,
     "input": [
      "import emLibrary.InfoFile as emIF\n",
      "import emLibrary.DataFile as emDF"
     ],
     "language": "python",
     "metadata": {},
     "outputs": [],
     "prompt_number": 7
    },
    {
     "cell_type": "markdown",
     "metadata": {},
     "source": [
      "Starting the Constructors"
     ]
    },
    {
     "cell_type": "code",
     "collapsed": false,
     "input": [
      "IF = emIF.InfoFile('NewTestFiles/B00C76BE.BIN')\n",
      "DF = emDF.DataFile('NewTestFiles/B00C76BF.BIN')"
     ],
     "language": "python",
     "metadata": {},
     "outputs": [],
     "prompt_number": 8
    },
    {
     "cell_type": "heading",
     "level": 1,
     "metadata": {},
     "source": [
      "Get Information out of the InfoFile Object"
     ]
    },
    {
     "cell_type": "code",
     "collapsed": false,
     "input": [
      "IF.TotalPower"
     ],
     "language": "python",
     "metadata": {},
     "outputs": [
      {
       "metadata": {},
       "output_type": "pyout",
       "prompt_number": 9,
       "text": [
        "0.037"
       ]
      }
     ],
     "prompt_number": 9
    },
    {
     "cell_type": "code",
     "collapsed": false,
     "input": [
      "a = DF.dataHexList"
     ],
     "language": "python",
     "metadata": {},
     "outputs": [],
     "prompt_number": 10
    },
    {
     "cell_type": "code",
     "collapsed": false,
     "input": [
      "t = DF.getdec(0,0,a[0])"
     ],
     "language": "python",
     "metadata": {},
     "outputs": [],
     "prompt_number": 11
    },
    {
     "cell_type": "code",
     "collapsed": false,
     "input": [
      "DF.getStartDate(a[0])"
     ],
     "language": "python",
     "metadata": {},
     "outputs": [
      {
       "metadata": {},
       "output_type": "pyout",
       "prompt_number": 12,
       "text": [
        "datetime.datetime(2013, 11, 15, 5, 10)"
       ]
      }
     ],
     "prompt_number": 12
    },
    {
     "cell_type": "code",
     "collapsed": false,
     "input": [
      "DF.getStartDateList()[0]"
     ],
     "language": "python",
     "metadata": {},
     "outputs": [
      {
       "metadata": {},
       "output_type": "pyout",
       "prompt_number": 14,
       "text": [
        "datetime.datetime(2013, 11, 15, 5, 10)"
       ]
      }
     ],
     "prompt_number": 14
    },
    {
     "cell_type": "markdown",
     "metadata": {},
     "source": [
      "Testing if insert to DB is ok"
     ]
    },
    {
     "cell_type": "code",
     "collapsed": false,
     "input": [
      "import mysqldb.mysqldb as mysqldb"
     ],
     "language": "python",
     "metadata": {},
     "outputs": [],
     "prompt_number": 15
    },
    {
     "cell_type": "code",
     "collapsed": false,
     "input": [
      "print DF.toSqlDB(mysqldb.load_DB_params('em.config'))"
     ],
     "language": "python",
     "metadata": {},
     "outputs": [
      {
       "output_type": "stream",
       "stream": "stdout",
       "text": [
        "None\n"
       ]
      }
     ],
     "prompt_number": 18
    },
    {
     "cell_type": "code",
     "collapsed": false,
     "input": [
      "DF"
     ],
     "language": "python",
     "metadata": {},
     "outputs": [
      {
       "metadata": {},
       "output_type": "pyout",
       "prompt_number": 19,
       "text": [
        "<emLibrary.DataFile.DataFile at 0x3760bd0>"
       ]
      }
     ],
     "prompt_number": 19
    },
    {
     "cell_type": "code",
     "collapsed": false,
     "input": [
      "mysqldb.load_DB_params('em.config')"
     ],
     "language": "python",
     "metadata": {},
     "outputs": [
      {
       "metadata": {},
       "output_type": "pyout",
       "prompt_number": 20,
       "text": [
        "('test', 'root', 'pet=81zi', 'localhost')"
       ]
      }
     ],
     "prompt_number": 20
    },
    {
     "cell_type": "code",
     "collapsed": false,
     "input": [
      "ls"
     ],
     "language": "python",
     "metadata": {},
     "outputs": [
      {
       "output_type": "stream",
       "stream": "stdout",
       "text": [
        "\u001b[0m\u001b[01;32mem.config\u001b[0m*  \u001b[01;34mExamples\u001b[0m/     LICENSE   NewFileTest.ipynb  README.md\r\n",
        "\u001b[01;34memLibrary\u001b[0m/  InsertAll.py  \u001b[01;34mmysqldb\u001b[0m/  \u001b[01;34mNewTestFiles\u001b[0m/      \u001b[01;34mTestFiles\u001b[0m/\r\n"
       ]
      }
     ],
     "prompt_number": 21
    },
    {
     "cell_type": "code",
     "collapsed": false,
     "input": [
      "cat InsertAll.py"
     ],
     "language": "python",
     "metadata": {},
     "outputs": [
      {
       "output_type": "stream",
       "stream": "stdout",
       "text": [
        "'''\r\n",
        "Created on 03.11.2013\r\n",
        "\r\n",
        "@author: bernd\r\n",
        "'''\r\n",
        "\r\n",
        "if __name__ == '__main__':\r\n",
        "    import emLibrary.DataFile as emDF\r\n",
        "    from os import listdir\r\n",
        "    from os.path import isfile, join\r\n",
        "    import mysqldb.mysqldb as mysqldb\r\n",
        "    configFile = 'em.config'    \r\n",
        "    mypath = 'TestFiles'\r\n",
        "    files = [ mypath + \"/\" + f for f in listdir(mypath) if (isfile(join(mypath,f)) and f.endswith('.bin')) ]\r\n",
        "    for i in files:\r\n",
        "        try:\r\n",
        "            emDF.DataFile(i).toSqlDB(mysqldb.load_DB_params(configFile))\r\n",
        "            print \"Finished with tile: %s. \" % i\r\n",
        "        except:\r\n",
        "            print \"Fault with %s, maybe a Info File!\" % i\r\n",
        "        \r\n",
        "        \r\n",
        "    "
       ]
      }
     ],
     "prompt_number": 22
    },
    {
     "cell_type": "code",
     "collapsed": false,
     "input": [],
     "language": "python",
     "metadata": {},
     "outputs": []
    }
   ],
   "metadata": {}
  }
 ]
}